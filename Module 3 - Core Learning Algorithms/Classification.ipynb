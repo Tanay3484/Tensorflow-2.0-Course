{
 "cells": [
  {
   "cell_type": "markdown",
   "metadata": {},
   "source": [
    "# Classification"
   ]
  },
  {
   "cell_type": "markdown",
   "metadata": {},
   "source": [
    "While regression is used to predict a numeric value, classification is used to seperate data points into classes of different labels."
   ]
  },
  {
   "cell_type": "markdown",
   "metadata": {},
   "source": [
    "## Imports and Setup\n",
    " Here we will be using the Iris Dataset"
   ]
  },
  {
   "cell_type": "code",
   "execution_count": 1,
   "metadata": {},
   "outputs": [],
   "source": [
    "from __future__ import absolute_import,division,print_function,unicode_literals\n",
    "import tensorflow as tf\n",
    "import pandas as pd"
   ]
  },
  {
   "cell_type": "markdown",
   "metadata": {},
   "source": [
    "---"
   ]
  },
  {
   "cell_type": "markdown",
   "metadata": {},
   "source": [
    "## Dataset"
   ]
  },
  {
   "cell_type": "markdown",
   "metadata": {},
   "source": [
    "This specific dataset seperates flowers into 3 different classes of species.\n",
    "- Setosa\n",
    "- Versicolor\n",
    "- Virginica\n",
    "\n",
    "\n",
    "The information provided for each flower is : \n",
    "- sepal length\n",
    "- sepal width\n",
    "- petal length\n",
    "- petal width"
   ]
  },
  {
   "cell_type": "code",
   "execution_count": 2,
   "metadata": {},
   "outputs": [],
   "source": [
    "CSV_COLUMN_NAMES = ['SepalLength','SepalWidth','PetalLength','PetalWidth','Species']\n",
    "SPECIES = ['Setosa','Versicolor','Virginica']\n"
   ]
  },
  {
   "cell_type": "code",
   "execution_count": 3,
   "metadata": {},
   "outputs": [],
   "source": [
    "train_path = tf.keras.utils.get_file(\"iris_training.csv\",\"https://storage.googleapis.com/download.tensorflow.org/data/iris_training.csv\")\n",
    "test_path = tf.keras.utils.get_file(\"iris_test.csv\",\"https://storage.googleapis.com/download.tensorflow.org/data/iris_test.csv\")\n",
    "\n",
    "train = pd.read_csv(train_path,names=CSV_COLUMN_NAMES,header=0)\n",
    "test = pd.read_csv(test_path,names=CSV_COLUMN_NAMES,header=0)"
   ]
  },
  {
   "cell_type": "code",
   "execution_count": 4,
   "metadata": {},
   "outputs": [
    {
     "data": {
      "text/html": [
       "<div>\n",
       "<style scoped>\n",
       "    .dataframe tbody tr th:only-of-type {\n",
       "        vertical-align: middle;\n",
       "    }\n",
       "\n",
       "    .dataframe tbody tr th {\n",
       "        vertical-align: top;\n",
       "    }\n",
       "\n",
       "    .dataframe thead th {\n",
       "        text-align: right;\n",
       "    }\n",
       "</style>\n",
       "<table border=\"1\" class=\"dataframe\">\n",
       "  <thead>\n",
       "    <tr style=\"text-align: right;\">\n",
       "      <th></th>\n",
       "      <th>SepalLength</th>\n",
       "      <th>SepalWidth</th>\n",
       "      <th>PetalLength</th>\n",
       "      <th>PetalWidth</th>\n",
       "      <th>Species</th>\n",
       "    </tr>\n",
       "  </thead>\n",
       "  <tbody>\n",
       "    <tr>\n",
       "      <th>0</th>\n",
       "      <td>6.4</td>\n",
       "      <td>2.8</td>\n",
       "      <td>5.6</td>\n",
       "      <td>2.2</td>\n",
       "      <td>2</td>\n",
       "    </tr>\n",
       "    <tr>\n",
       "      <th>1</th>\n",
       "      <td>5.0</td>\n",
       "      <td>2.3</td>\n",
       "      <td>3.3</td>\n",
       "      <td>1.0</td>\n",
       "      <td>1</td>\n",
       "    </tr>\n",
       "    <tr>\n",
       "      <th>2</th>\n",
       "      <td>4.9</td>\n",
       "      <td>2.5</td>\n",
       "      <td>4.5</td>\n",
       "      <td>1.7</td>\n",
       "      <td>2</td>\n",
       "    </tr>\n",
       "    <tr>\n",
       "      <th>3</th>\n",
       "      <td>4.9</td>\n",
       "      <td>3.1</td>\n",
       "      <td>1.5</td>\n",
       "      <td>0.1</td>\n",
       "      <td>0</td>\n",
       "    </tr>\n",
       "    <tr>\n",
       "      <th>4</th>\n",
       "      <td>5.7</td>\n",
       "      <td>3.8</td>\n",
       "      <td>1.7</td>\n",
       "      <td>0.3</td>\n",
       "      <td>0</td>\n",
       "    </tr>\n",
       "  </tbody>\n",
       "</table>\n",
       "</div>"
      ],
      "text/plain": [
       "   SepalLength  SepalWidth  PetalLength  PetalWidth  Species\n",
       "0          6.4         2.8          5.6         2.2        2\n",
       "1          5.0         2.3          3.3         1.0        1\n",
       "2          4.9         2.5          4.5         1.7        2\n",
       "3          4.9         3.1          1.5         0.1        0\n",
       "4          5.7         3.8          1.7         0.3        0"
      ]
     },
     "execution_count": 4,
     "metadata": {},
     "output_type": "execute_result"
    }
   ],
   "source": [
    "train.head()"
   ]
  },
  {
   "cell_type": "code",
   "execution_count": 5,
   "metadata": {},
   "outputs": [
    {
     "data": {
      "text/html": [
       "<div>\n",
       "<style scoped>\n",
       "    .dataframe tbody tr th:only-of-type {\n",
       "        vertical-align: middle;\n",
       "    }\n",
       "\n",
       "    .dataframe tbody tr th {\n",
       "        vertical-align: top;\n",
       "    }\n",
       "\n",
       "    .dataframe thead th {\n",
       "        text-align: right;\n",
       "    }\n",
       "</style>\n",
       "<table border=\"1\" class=\"dataframe\">\n",
       "  <thead>\n",
       "    <tr style=\"text-align: right;\">\n",
       "      <th></th>\n",
       "      <th>SepalLength</th>\n",
       "      <th>SepalWidth</th>\n",
       "      <th>PetalLength</th>\n",
       "      <th>PetalWidth</th>\n",
       "    </tr>\n",
       "  </thead>\n",
       "  <tbody>\n",
       "    <tr>\n",
       "      <th>0</th>\n",
       "      <td>6.4</td>\n",
       "      <td>2.8</td>\n",
       "      <td>5.6</td>\n",
       "      <td>2.2</td>\n",
       "    </tr>\n",
       "    <tr>\n",
       "      <th>1</th>\n",
       "      <td>5.0</td>\n",
       "      <td>2.3</td>\n",
       "      <td>3.3</td>\n",
       "      <td>1.0</td>\n",
       "    </tr>\n",
       "    <tr>\n",
       "      <th>2</th>\n",
       "      <td>4.9</td>\n",
       "      <td>2.5</td>\n",
       "      <td>4.5</td>\n",
       "      <td>1.7</td>\n",
       "    </tr>\n",
       "    <tr>\n",
       "      <th>3</th>\n",
       "      <td>4.9</td>\n",
       "      <td>3.1</td>\n",
       "      <td>1.5</td>\n",
       "      <td>0.1</td>\n",
       "    </tr>\n",
       "    <tr>\n",
       "      <th>4</th>\n",
       "      <td>5.7</td>\n",
       "      <td>3.8</td>\n",
       "      <td>1.7</td>\n",
       "      <td>0.3</td>\n",
       "    </tr>\n",
       "  </tbody>\n",
       "</table>\n",
       "</div>"
      ],
      "text/plain": [
       "   SepalLength  SepalWidth  PetalLength  PetalWidth\n",
       "0          6.4         2.8          5.6         2.2\n",
       "1          5.0         2.3          3.3         1.0\n",
       "2          4.9         2.5          4.5         1.7\n",
       "3          4.9         3.1          1.5         0.1\n",
       "4          5.7         3.8          1.7         0.3"
      ]
     },
     "execution_count": 5,
     "metadata": {},
     "output_type": "execute_result"
    }
   ],
   "source": [
    "train_y = train.pop('Species') #We remove this column as this is our label we need to predict\n",
    "test_y = test.pop('Species')\n",
    "train.head()"
   ]
  },
  {
   "cell_type": "code",
   "execution_count": 6,
   "metadata": {},
   "outputs": [
    {
     "data": {
      "text/plain": [
       "0    2\n",
       "1    1\n",
       "2    2\n",
       "3    0\n",
       "4    0\n",
       "Name: Species, dtype: int64"
      ]
     },
     "execution_count": 6,
     "metadata": {},
     "output_type": "execute_result"
    }
   ],
   "source": [
    "train_y.head()"
   ]
  },
  {
   "cell_type": "code",
   "execution_count": 7,
   "metadata": {},
   "outputs": [
    {
     "data": {
      "text/plain": [
       "(120, 4)"
      ]
     },
     "execution_count": 7,
     "metadata": {},
     "output_type": "execute_result"
    }
   ],
   "source": [
    "train.shape"
   ]
  },
  {
   "cell_type": "markdown",
   "metadata": {},
   "source": [
    "---"
   ]
  },
  {
   "cell_type": "markdown",
   "metadata": {},
   "source": [
    "## Input Function"
   ]
  },
  {
   "cell_type": "markdown",
   "metadata": {},
   "source": [
    "**Reminder** :\n",
    "For Linear regression the input function used was : \n",
    "```\n",
    "def make_input_fn(data_df,label_df,num_epochs=50,shuffle=True,batch_size=32):\n",
    "    def input_function():\n",
    "        ds = tf.data.Dataset.from_tensor_slices((dict(data_df),label_df)) # create tf.data.Dataset object with data and its label\n",
    "        if shuffle:\n",
    "            ds = ds.shuffle(1000) # randomize order of data\n",
    "        ds = ds.batch(batch_size).repeat(num_epochs) # split dataset into batches of 32 and repeat process for number of epochs\n",
    "        return ds # return a batch of the dataset\n",
    "    return input_function # return a function object for use\n",
    "```"
   ]
  },
  {
   "cell_type": "code",
   "execution_count": 8,
   "metadata": {},
   "outputs": [],
   "source": [
    "def input_fn(features,labels,training=True,batch_size=256):\n",
    "    dataset = tf.data.Dataset.from_tensor_slices((dict(features),labels))\n",
    "    if training:\n",
    "        dataset = dataset.shuffle(1000).repeat()\n",
    "\n",
    "    return dataset.batch(batch_size)"
   ]
  },
  {
   "cell_type": "markdown",
   "metadata": {},
   "source": [
    "---"
   ]
  },
  {
   "cell_type": "markdown",
   "metadata": {},
   "source": [
    "## Feature Columns"
   ]
  },
  {
   "cell_type": "code",
   "execution_count": 9,
   "metadata": {},
   "outputs": [
    {
     "name": "stdout",
     "output_type": "stream",
     "text": [
      "[NumericColumn(key='SepalLength', shape=(1,), default_value=None, dtype=tf.float32, normalizer_fn=None), NumericColumn(key='SepalWidth', shape=(1,), default_value=None, dtype=tf.float32, normalizer_fn=None), NumericColumn(key='PetalLength', shape=(1,), default_value=None, dtype=tf.float32, normalizer_fn=None), NumericColumn(key='PetalWidth', shape=(1,), default_value=None, dtype=tf.float32, normalizer_fn=None)]\n"
     ]
    }
   ],
   "source": [
    "my_feature_columns = []\n",
    "for key in train.keys():\n",
    "    my_feature_columns.append(tf.feature_column.numeric_column(key=key))\n",
    "print(my_feature_columns)"
   ]
  },
  {
   "cell_type": "markdown",
   "metadata": {},
   "source": [
    "---"
   ]
  },
  {
   "cell_type": "markdown",
   "metadata": {},
   "source": [
    "## Building the Model"
   ]
  },
  {
   "cell_type": "markdown",
   "metadata": {},
   "source": [
    "For classification tasks there are a variety of different estimators/models that we can pick from. Some of the famous options are : \n",
    "- ``` DNNClassifier ``` (Deep Neural Network)\n",
    "- ``` LinearClassifier ```\n",
    "\n",
    "We can chose either for the current model, but DNN is the better choice of the two as we may not be able to find a linear correspondance in our data"
   ]
  },
  {
   "cell_type": "code",
   "execution_count": 10,
   "metadata": {},
   "outputs": [
    {
     "name": "stdout",
     "output_type": "stream",
     "text": [
      "INFO:tensorflow:Using default config.\n",
      "WARNING:tensorflow:Using temporary folder as model directory: C:\\Users\\Tanay\\AppData\\Local\\Temp\\tmpmaa2yv4d\n",
      "INFO:tensorflow:Using config: {'_model_dir': 'C:\\\\Users\\\\Tanay\\\\AppData\\\\Local\\\\Temp\\\\tmpmaa2yv4d', '_tf_random_seed': None, '_save_summary_steps': 100, '_save_checkpoints_steps': None, '_save_checkpoints_secs': 600, '_session_config': allow_soft_placement: true\n",
      "graph_options {\n",
      "  rewrite_options {\n",
      "    meta_optimizer_iterations: ONE\n",
      "  }\n",
      "}\n",
      ", '_keep_checkpoint_max': 5, '_keep_checkpoint_every_n_hours': 10000, '_log_step_count_steps': 100, '_train_distribute': None, '_device_fn': None, '_protocol': None, '_eval_distribute': None, '_experimental_distribute': None, '_experimental_max_worker_delay_secs': None, '_session_creation_timeout_secs': 7200, '_checkpoint_save_graph_def': True, '_service': None, '_cluster_spec': ClusterSpec({}), '_task_type': 'worker', '_task_id': 0, '_global_id_in_cluster': 0, '_master': '', '_evaluation_master': '', '_is_chief': True, '_num_ps_replicas': 0, '_num_worker_replicas': 1}\n"
     ]
    }
   ],
   "source": [
    "#Build a DNN with 2 hidden layers with 30 and 10 hidden nodes each.\n",
    "classifier = tf.estimator.DNNClassifier(\n",
    "    feature_columns=my_feature_columns,\n",
    "    #two hidden layers of 30 and 10  nodes respectively.\n",
    "    hidden_units=[30,10],\n",
    "    #The model must choose between 3 classes.\n",
    "    n_classes=3)"
   ]
  },
  {
   "cell_type": "markdown",
   "metadata": {},
   "source": [
    "---"
   ]
  },
  {
   "cell_type": "markdown",
   "metadata": {},
   "source": [
    "## Training"
   ]
  },
  {
   "cell_type": "code",
   "execution_count": 11,
   "metadata": {},
   "outputs": [
    {
     "name": "stdout",
     "output_type": "stream",
     "text": [
      "WARNING:tensorflow:From c:\\Users\\Tanay\\AppData\\Local\\Programs\\Python\\Python37\\lib\\site-packages\\tensorflow\\python\\training\\training_util.py:397: Variable.initialized_value (from tensorflow.python.ops.variables) is deprecated and will be removed in a future version.\n",
      "Instructions for updating:\n",
      "Use Variable.read_value. Variables in 2.X are initialized automatically both in eager and graph (inside tf.defun) contexts.\n",
      "INFO:tensorflow:Calling model_fn.\n",
      "WARNING:tensorflow:From c:\\Users\\Tanay\\AppData\\Local\\Programs\\Python\\Python37\\lib\\site-packages\\keras\\optimizers\\optimizer_v2\\adagrad.py:87: calling Constant.__init__ (from tensorflow.python.ops.init_ops) with dtype is deprecated and will be removed in a future version.\n",
      "Instructions for updating:\n",
      "Call initializer instance with the dtype argument instead of passing it to the constructor\n",
      "INFO:tensorflow:Done calling model_fn.\n",
      "INFO:tensorflow:Create CheckpointSaverHook.\n",
      "INFO:tensorflow:Graph was finalized.\n",
      "INFO:tensorflow:Running local_init_op.\n",
      "INFO:tensorflow:Done running local_init_op.\n",
      "INFO:tensorflow:Calling checkpoint listeners before saving checkpoint 0...\n",
      "INFO:tensorflow:Saving checkpoints for 0 into C:\\Users\\Tanay\\AppData\\Local\\Temp\\tmpmaa2yv4d\\model.ckpt.\n",
      "INFO:tensorflow:C:\\Users\\Tanay\\AppData\\Local\\Temp\\tmpmaa2yv4d\\model.ckpt-0.data-00000-of-00001\n",
      "INFO:tensorflow:0\n",
      "INFO:tensorflow:C:\\Users\\Tanay\\AppData\\Local\\Temp\\tmpmaa2yv4d\\model.ckpt-0.index\n",
      "INFO:tensorflow:0\n",
      "INFO:tensorflow:C:\\Users\\Tanay\\AppData\\Local\\Temp\\tmpmaa2yv4d\\model.ckpt-0.meta\n",
      "INFO:tensorflow:100\n",
      "INFO:tensorflow:Calling checkpoint listeners after saving checkpoint 0...\n",
      "INFO:tensorflow:loss = 1.4374454, step = 0\n",
      "INFO:tensorflow:global_step/sec: 393.243\n",
      "INFO:tensorflow:loss = 1.0130054, step = 100 (0.255 sec)\n",
      "INFO:tensorflow:global_step/sec: 453.501\n",
      "INFO:tensorflow:loss = 0.91710234, step = 200 (0.221 sec)\n",
      "INFO:tensorflow:global_step/sec: 469.483\n",
      "INFO:tensorflow:loss = 0.8009174, step = 300 (0.213 sec)\n",
      "INFO:tensorflow:global_step/sec: 442.379\n",
      "INFO:tensorflow:loss = 0.73543197, step = 400 (0.226 sec)\n",
      "INFO:tensorflow:global_step/sec: 462.477\n",
      "INFO:tensorflow:loss = 0.69869614, step = 500 (0.216 sec)\n",
      "INFO:tensorflow:global_step/sec: 458.227\n",
      "INFO:tensorflow:loss = 0.6794061, step = 600 (0.218 sec)\n",
      "INFO:tensorflow:global_step/sec: 477.644\n",
      "INFO:tensorflow:loss = 0.67097, step = 700 (0.209 sec)\n",
      "INFO:tensorflow:global_step/sec: 430.963\n",
      "INFO:tensorflow:loss = 0.64530057, step = 800 (0.232 sec)\n",
      "INFO:tensorflow:global_step/sec: 467.472\n",
      "INFO:tensorflow:loss = 0.6233889, step = 900 (0.214 sec)\n",
      "INFO:tensorflow:global_step/sec: 471.888\n",
      "INFO:tensorflow:loss = 0.6148168, step = 1000 (0.212 sec)\n",
      "INFO:tensorflow:global_step/sec: 461.262\n",
      "INFO:tensorflow:loss = 0.5888025, step = 1100 (0.217 sec)\n",
      "INFO:tensorflow:global_step/sec: 476.844\n",
      "INFO:tensorflow:loss = 0.58793384, step = 1200 (0.210 sec)\n",
      "INFO:tensorflow:global_step/sec: 478.16\n",
      "INFO:tensorflow:loss = 0.58514166, step = 1300 (0.209 sec)\n",
      "INFO:tensorflow:global_step/sec: 475.647\n",
      "INFO:tensorflow:loss = 0.5794215, step = 1400 (0.210 sec)\n",
      "INFO:tensorflow:global_step/sec: 448.791\n",
      "INFO:tensorflow:loss = 0.5570251, step = 1500 (0.223 sec)\n",
      "INFO:tensorflow:global_step/sec: 445.627\n",
      "INFO:tensorflow:loss = 0.5558115, step = 1600 (0.225 sec)\n",
      "INFO:tensorflow:global_step/sec: 476.738\n",
      "INFO:tensorflow:loss = 0.5567315, step = 1700 (0.209 sec)\n",
      "INFO:tensorflow:global_step/sec: 483.431\n",
      "INFO:tensorflow:loss = 0.53496444, step = 1800 (0.206 sec)\n",
      "INFO:tensorflow:global_step/sec: 471.637\n",
      "INFO:tensorflow:loss = 0.5378273, step = 1900 (0.212 sec)\n",
      "INFO:tensorflow:global_step/sec: 476.869\n",
      "INFO:tensorflow:loss = 0.5150483, step = 2000 (0.210 sec)\n",
      "INFO:tensorflow:global_step/sec: 459.556\n",
      "INFO:tensorflow:loss = 0.5152125, step = 2100 (0.218 sec)\n",
      "INFO:tensorflow:global_step/sec: 480.166\n",
      "INFO:tensorflow:loss = 0.5111972, step = 2200 (0.208 sec)\n",
      "INFO:tensorflow:global_step/sec: 459.828\n",
      "INFO:tensorflow:loss = 0.49506605, step = 2300 (0.217 sec)\n",
      "INFO:tensorflow:global_step/sec: 451.418\n",
      "INFO:tensorflow:loss = 0.4961068, step = 2400 (0.222 sec)\n",
      "INFO:tensorflow:global_step/sec: 448.203\n",
      "INFO:tensorflow:loss = 0.49540704, step = 2500 (0.223 sec)\n",
      "INFO:tensorflow:global_step/sec: 441.003\n",
      "INFO:tensorflow:loss = 0.4949909, step = 2600 (0.227 sec)\n",
      "INFO:tensorflow:global_step/sec: 442.612\n",
      "INFO:tensorflow:loss = 0.4810801, step = 2700 (0.226 sec)\n",
      "INFO:tensorflow:global_step/sec: 444.425\n",
      "INFO:tensorflow:loss = 0.47914383, step = 2800 (0.225 sec)\n",
      "INFO:tensorflow:global_step/sec: 438.853\n",
      "INFO:tensorflow:loss = 0.47046944, step = 2900 (0.228 sec)\n",
      "INFO:tensorflow:global_step/sec: 429.654\n",
      "INFO:tensorflow:loss = 0.47161108, step = 3000 (0.233 sec)\n",
      "INFO:tensorflow:global_step/sec: 423.094\n",
      "INFO:tensorflow:loss = 0.46986842, step = 3100 (0.235 sec)\n",
      "INFO:tensorflow:global_step/sec: 438.221\n",
      "INFO:tensorflow:loss = 0.45553046, step = 3200 (0.229 sec)\n",
      "INFO:tensorflow:global_step/sec: 444.805\n",
      "INFO:tensorflow:loss = 0.4564482, step = 3300 (0.224 sec)\n",
      "INFO:tensorflow:global_step/sec: 436.652\n",
      "INFO:tensorflow:loss = 0.45157924, step = 3400 (0.230 sec)\n",
      "INFO:tensorflow:global_step/sec: 441.376\n",
      "INFO:tensorflow:loss = 0.4439864, step = 3500 (0.228 sec)\n",
      "INFO:tensorflow:global_step/sec: 425.926\n",
      "INFO:tensorflow:loss = 0.44509286, step = 3600 (0.234 sec)\n",
      "INFO:tensorflow:global_step/sec: 429.766\n",
      "INFO:tensorflow:loss = 0.4285138, step = 3700 (0.233 sec)\n",
      "INFO:tensorflow:global_step/sec: 385.141\n",
      "INFO:tensorflow:loss = 0.42850265, step = 3800 (0.260 sec)\n",
      "INFO:tensorflow:global_step/sec: 395.038\n",
      "INFO:tensorflow:loss = 0.44026554, step = 3900 (0.253 sec)\n",
      "INFO:tensorflow:global_step/sec: 420.647\n",
      "INFO:tensorflow:loss = 0.42832005, step = 4000 (0.238 sec)\n",
      "INFO:tensorflow:global_step/sec: 424.517\n",
      "INFO:tensorflow:loss = 0.43367714, step = 4100 (0.236 sec)\n",
      "INFO:tensorflow:global_step/sec: 431.193\n",
      "INFO:tensorflow:loss = 0.42420477, step = 4200 (0.232 sec)\n",
      "INFO:tensorflow:global_step/sec: 421.423\n",
      "INFO:tensorflow:loss = 0.4032171, step = 4300 (0.237 sec)\n",
      "INFO:tensorflow:global_step/sec: 423.513\n",
      "INFO:tensorflow:loss = 0.41011146, step = 4400 (0.236 sec)\n",
      "INFO:tensorflow:global_step/sec: 418.032\n",
      "INFO:tensorflow:loss = 0.4126186, step = 4500 (0.239 sec)\n",
      "INFO:tensorflow:global_step/sec: 405.817\n",
      "INFO:tensorflow:loss = 0.42017305, step = 4600 (0.246 sec)\n",
      "INFO:tensorflow:global_step/sec: 420.809\n",
      "INFO:tensorflow:loss = 0.4156559, step = 4700 (0.238 sec)\n",
      "INFO:tensorflow:global_step/sec: 412.47\n",
      "INFO:tensorflow:loss = 0.40366298, step = 4800 (0.242 sec)\n",
      "INFO:tensorflow:global_step/sec: 416.684\n",
      "INFO:tensorflow:loss = 0.41199857, step = 4900 (0.239 sec)\n",
      "INFO:tensorflow:global_step/sec: 423.196\n",
      "INFO:tensorflow:loss = 0.40057105, step = 5000 (0.237 sec)\n",
      "INFO:tensorflow:global_step/sec: 430.165\n",
      "INFO:tensorflow:loss = 0.39981067, step = 5100 (0.232 sec)\n",
      "INFO:tensorflow:global_step/sec: 424.495\n",
      "INFO:tensorflow:loss = 0.4047881, step = 5200 (0.236 sec)\n",
      "INFO:tensorflow:global_step/sec: 422.881\n",
      "INFO:tensorflow:loss = 0.39608595, step = 5300 (0.237 sec)\n",
      "INFO:tensorflow:global_step/sec: 421.807\n",
      "INFO:tensorflow:loss = 0.39666098, step = 5400 (0.237 sec)\n",
      "INFO:tensorflow:global_step/sec: 422.744\n",
      "INFO:tensorflow:loss = 0.38615614, step = 5500 (0.237 sec)\n",
      "INFO:tensorflow:global_step/sec: 430.751\n",
      "INFO:tensorflow:loss = 0.38264263, step = 5600 (0.232 sec)\n",
      "INFO:tensorflow:global_step/sec: 423.677\n",
      "INFO:tensorflow:loss = 0.38759375, step = 5700 (0.236 sec)\n",
      "INFO:tensorflow:global_step/sec: 420.045\n",
      "INFO:tensorflow:loss = 0.38721073, step = 5800 (0.238 sec)\n",
      "INFO:tensorflow:global_step/sec: 425.108\n",
      "INFO:tensorflow:loss = 0.3887584, step = 5900 (0.235 sec)\n",
      "INFO:tensorflow:Calling checkpoint listeners before saving checkpoint 6000...\n",
      "INFO:tensorflow:Saving checkpoints for 6000 into C:\\Users\\Tanay\\AppData\\Local\\Temp\\tmpmaa2yv4d\\model.ckpt.\n",
      "INFO:tensorflow:C:\\Users\\Tanay\\AppData\\Local\\Temp\\tmpmaa2yv4d\\model.ckpt-6000.data-00000-of-00001\n",
      "INFO:tensorflow:0\n",
      "INFO:tensorflow:C:\\Users\\Tanay\\AppData\\Local\\Temp\\tmpmaa2yv4d\\model.ckpt-6000.index\n",
      "INFO:tensorflow:0\n",
      "INFO:tensorflow:C:\\Users\\Tanay\\AppData\\Local\\Temp\\tmpmaa2yv4d\\model.ckpt-6000.meta\n",
      "INFO:tensorflow:100\n",
      "INFO:tensorflow:Calling checkpoint listeners after saving checkpoint 6000...\n",
      "INFO:tensorflow:Loss for final step: 0.3788602.\n"
     ]
    },
    {
     "data": {
      "text/plain": [
       "<tensorflow_estimator.python.estimator.canned.dnn.DNNClassifierV2 at 0x1c4d21a0d88>"
      ]
     },
     "execution_count": 11,
     "metadata": {},
     "output_type": "execute_result"
    }
   ],
   "source": [
    "classifier.train(input_fn=lambda:input_fn(train,train_y,training=True),\n",
    "                steps=6000)\n",
    "#We include a lambda to avoid creating an inner function previously"
   ]
  },
  {
   "cell_type": "code",
   "execution_count": 12,
   "metadata": {},
   "outputs": [
    {
     "name": "stdout",
     "output_type": "stream",
     "text": [
      "INFO:tensorflow:Calling model_fn.\n",
      "INFO:tensorflow:Done calling model_fn.\n",
      "INFO:tensorflow:Starting evaluation at 2022-08-03T20:52:41\n",
      "INFO:tensorflow:Graph was finalized.\n",
      "INFO:tensorflow:Restoring parameters from C:\\Users\\Tanay\\AppData\\Local\\Temp\\tmpmaa2yv4d\\model.ckpt-6000\n",
      "INFO:tensorflow:Running local_init_op.\n",
      "INFO:tensorflow:Done running local_init_op.\n",
      "INFO:tensorflow:Inference Time : 0.33087s\n",
      "INFO:tensorflow:Finished evaluation at 2022-08-03-20:52:42\n",
      "INFO:tensorflow:Saving dict for global step 6000: accuracy = 0.93333334, average_loss = 0.4433703, global_step = 6000, loss = 0.4433703\n",
      "INFO:tensorflow:Saving 'checkpoint_path' summary for global step 6000: C:\\Users\\Tanay\\AppData\\Local\\Temp\\tmpmaa2yv4d\\model.ckpt-6000\n",
      "\n",
      "Test set accuracy : 0.933\n",
      "\n"
     ]
    }
   ],
   "source": [
    "eval_result = classifier.evaluate(\n",
    "    input_fn=lambda:input_fn(test,test_y,training=False))\n",
    "\n",
    "print('\\nTest set accuracy : {accuracy:0.3f}\\n'.format(**eval_result))"
   ]
  },
  {
   "cell_type": "markdown",
   "metadata": {},
   "source": [
    "---"
   ]
  },
  {
   "cell_type": "markdown",
   "metadata": {},
   "source": [
    "## Predictions"
   ]
  },
  {
   "cell_type": "code",
   "execution_count": 13,
   "metadata": {},
   "outputs": [
    {
     "name": "stdout",
     "output_type": "stream",
     "text": [
      "Please type numeric values as prompted.\n",
      "INFO:tensorflow:Calling model_fn.\n",
      "INFO:tensorflow:Done calling model_fn.\n",
      "INFO:tensorflow:Graph was finalized.\n",
      "INFO:tensorflow:Restoring parameters from C:\\Users\\Tanay\\AppData\\Local\\Temp\\tmpmaa2yv4d\\model.ckpt-6000\n",
      "INFO:tensorflow:Running local_init_op.\n",
      "INFO:tensorflow:Done running local_init_op.\n",
      "Predicition is \"Virginica\" (77.2%)\n"
     ]
    }
   ],
   "source": [
    "def Input_fn(features,batch_size=256):\n",
    "    return tf.data.Dataset.from_tensor_slices(dict(features)).batch(batch_size)\n",
    "\n",
    "\n",
    "features = ['SepalLength','SepalWidth','PetalLength','PetalWidth']\n",
    "predict = {}\n",
    "\n",
    "print(\"Please type numeric values as prompted.\")\n",
    "for feature in features:\n",
    "    valid = True\n",
    "    while valid:\n",
    "        val = input(feature+\": \")\n",
    "        if not val.isdigit(): valid = False\n",
    "    \n",
    "    predict[feature] = [float(val)]\n",
    "\n",
    "predictions = classifier.predict(input_fn=lambda:Input_fn(predict))\n",
    "for pred_dict in predictions:\n",
    "    class_id = pred_dict['class_ids'][0]\n",
    "    probability = pred_dict['probabilities'][class_id]\n",
    "\n",
    "    print('Predicition is \"{}\" ({:.1f}%)'.format(SPECIES[class_id],100*probability))"
   ]
  },
  {
   "cell_type": "code",
   "execution_count": null,
   "metadata": {},
   "outputs": [],
   "source": []
  }
 ],
 "metadata": {
  "kernelspec": {
   "display_name": "Python 3.7.9 64-bit",
   "language": "python",
   "name": "python3"
  },
  "language_info": {
   "codemirror_mode": {
    "name": "ipython",
    "version": 3
   },
   "file_extension": ".py",
   "mimetype": "text/x-python",
   "name": "python",
   "nbconvert_exporter": "python",
   "pygments_lexer": "ipython3",
   "version": "3.7.9"
  },
  "orig_nbformat": 4,
  "vscode": {
   "interpreter": {
    "hash": "980a64f2958df2404fa0d7c6e84c5eadfe57a704b6a6bc9d1085afbbc343affd"
   }
  }
 },
 "nbformat": 4,
 "nbformat_minor": 2
}
