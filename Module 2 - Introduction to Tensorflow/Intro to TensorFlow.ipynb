{
 "cells": [
  {
   "cell_type": "markdown",
   "metadata": {},
   "source": [
    "## Importing Tensorflow"
   ]
  },
  {
   "cell_type": "code",
   "execution_count": 1,
   "metadata": {},
   "outputs": [],
   "source": [
    "import tensorflow as tf"
   ]
  },
  {
   "cell_type": "markdown",
   "metadata": {},
   "source": [
    "## Creating a Tensor"
   ]
  },
  {
   "cell_type": "code",
   "execution_count": 2,
   "metadata": {},
   "outputs": [],
   "source": [
    "string = tf.Variable(\"this is a string\",tf.string)\n",
    "number = tf.Variable(324,tf.int16)\n",
    "floating = tf.Variable(3.567,tf.float64)"
   ]
  },
  {
   "cell_type": "markdown",
   "metadata": {},
   "source": [
    "## Rank/Degree of a tensor\n",
    "\n",
    "### Number of dimensions involved in a tensor. The above created tensors have a singular value and thus have a rank of 0. These are also called as Scalars."
   ]
  },
  {
   "cell_type": "markdown",
   "metadata": {},
   "source": [
    "#### For creating higher ranking tensors we do the following : "
   ]
  },
  {
   "cell_type": "code",
   "execution_count": 3,
   "metadata": {},
   "outputs": [],
   "source": [
    "rank1_tensor = tf.Variable([\"one\",\"two\"],tf.string) #this is a rank 1 tensor as there is only one list with some data in it\n",
    "rank2_tensor = tf.Variable([[\"one\",\"two\"],[\"three\",\"four\"]],tf.string) #this is a rank 2 tensor as there are 2 lists inside one main list"
   ]
  },
  {
   "cell_type": "markdown",
   "metadata": {},
   "source": [
    "##### The ranking of a tensor in python is determined by the deepest level of list nesting."
   ]
  },
  {
   "cell_type": "markdown",
   "metadata": {},
   "source": [
    "---"
   ]
  },
  {
   "cell_type": "markdown",
   "metadata": {},
   "source": [
    "##### To determine the **rank** of a tensor we use the following method"
   ]
  },
  {
   "cell_type": "code",
   "execution_count": 4,
   "metadata": {},
   "outputs": [
    {
     "name": "stdout",
     "output_type": "stream",
     "text": [
      "tf.Tensor(2, shape=(), dtype=int32)\n",
      "tf.Tensor(1, shape=(), dtype=int32)\n"
     ]
    }
   ],
   "source": [
    "print(tf.rank(rank2_tensor))\n",
    "print(tf.rank(rank1_tensor))"
   ]
  },
  {
   "cell_type": "markdown",
   "metadata": {},
   "source": [
    "---"
   ]
  },
  {
   "cell_type": "markdown",
   "metadata": {},
   "source": [
    "## Shape of Tensors\n",
    "\n",
    "Shape of a tensor is the amount of elements that exist in each dimension.Tensorflow will try to determine the shape of a tensor but sometimes it may be unknown"
   ]
  },
  {
   "cell_type": "code",
   "execution_count": 5,
   "metadata": {},
   "outputs": [
    {
     "name": "stdout",
     "output_type": "stream",
     "text": [
      "(2, 2)\n",
      "(2,)\n",
      "(3, 2)\n",
      "(2, 3)\n"
     ]
    }
   ],
   "source": [
    "#in each shape, the first value refers to the number of lists/dimensions in in the tensor, and the second value refers to the number of elements in that dimension => this is for rank 2 tensors only.\n",
    "\n",
    "print(rank2_tensor.shape) #prints (2,2) => 2 lists with 2 elements each in a list\n",
    "print(rank1_tensor.shape) #prints 2 => 1 list with 2 elements in a list\n",
    "print(tf.Variable([[\"one\",\"two\"],[\"three\",\"four\"],[\"five\",\"six\"]],tf.string).shape) #prints (3,2) => 3 lists each with 2 elements\n",
    "print(tf.Variable([[\"one\",\"two\",\"three\"],[\"four\",\"five\",\"six\"]],tf.string).shape) #prints (2,3) => 2 lists each with 3 elements"
   ]
  },
  {
   "cell_type": "markdown",
   "metadata": {},
   "source": [
    "---"
   ]
  },
  {
   "cell_type": "markdown",
   "metadata": {},
   "source": [
    "## Changing Shape of a tensor\n",
    "\n",
    "The number of elements of a tensor is the product of the sizes of all its shapes.There are often many shapes that have the same number of elements, making it convenient to be able to change the shape of the tensor. For example : "
   ]
  },
  {
   "cell_type": "code",
   "execution_count": 6,
   "metadata": {},
   "outputs": [],
   "source": [
    "tensor1 = tf.ones([1,2,3]) #tf.ones() creates a shape [1,2,3] tensor full of 1s\n",
    "tensor2 = tf.reshape(tensor1,[2,3,1])\n",
    "tensor3 = tf.reshape(tensor2,[3,-1]) # -1 tells the tensor to calculate the size of the dimension at that place. In this case, the resulting shape will be [3,2]\n",
    "\n",
    "\n",
    "#NOTE:\n",
    "#The number of elements in the reshaped tensor MUST match the number in the original"
   ]
  },
  {
   "cell_type": "code",
   "execution_count": 7,
   "metadata": {},
   "outputs": [
    {
     "name": "stdout",
     "output_type": "stream",
     "text": [
      "Tensor 1 : \n",
      " tf.Tensor(\n",
      "[[[1. 1. 1.]\n",
      "  [1. 1. 1.]]], shape=(1, 2, 3), dtype=float32)\n",
      "---------------------\n",
      "Tensor 2 : \n",
      " tf.Tensor(\n",
      "[[[1.]\n",
      "  [1.]\n",
      "  [1.]]\n",
      "\n",
      " [[1.]\n",
      "  [1.]\n",
      "  [1.]]], shape=(2, 3, 1), dtype=float32)\n",
      "---------------------\n",
      "Tensor 3 : \n",
      " tf.Tensor(\n",
      "[[1. 1.]\n",
      " [1. 1.]\n",
      " [1. 1.]], shape=(3, 2), dtype=float32)\n"
     ]
    }
   ],
   "source": [
    "print(\"Tensor 1 : \\n\",tensor1)\n",
    "print(\"---------------------\")\n",
    "print(\"Tensor 2 : \\n\",tensor2)\n",
    "print(\"---------------------\")\n",
    "print(\"Tensor 3 : \\n\",tensor3)"
   ]
  },
  {
   "cell_type": "markdown",
   "metadata": {},
   "source": [
    "---"
   ]
  },
  {
   "cell_type": "markdown",
   "metadata": {},
   "source": [
    "## Types of Tensors"
   ]
  },
  {
   "cell_type": "markdown",
   "metadata": {},
   "source": [
    "There are mainly 4 types of tensors : \n",
    "- Variable\n",
    "- Constant\n",
    "- Placeholder\n",
    "- SparseTensor\n",
    "\n",
    "With the exception of **Variable** , all of the remaining tensors are immutable, meaning their value may not change during execution."
   ]
  },
  {
   "cell_type": "markdown",
   "metadata": {},
   "source": [
    "---"
   ]
  },
  {
   "cell_type": "markdown",
   "metadata": {},
   "source": [
    "## Evalutaing Tensors\n",
    "\n",
    "Since tensors represent a partially complete computation we will sometimes need to run a **session** to evaluate the tensor\n",
    "\n",
    "The simplest way to evaluate a tensor is : "
   ]
  },
  {
   "cell_type": "code",
   "execution_count": 8,
   "metadata": {},
   "outputs": [],
   "source": [
    "tensor = tf.constant(5.0) #dummy variable\n",
    "with tf.compat.v1.Session() as sess:\n",
    "    tensor.numpy() #Earlier tensor.eval() was used but the current versions have been changed to tensor.numpy()"
   ]
  }
 ],
 "metadata": {
  "kernelspec": {
   "display_name": "Python 3.7.9 64-bit",
   "language": "python",
   "name": "python3"
  },
  "language_info": {
   "codemirror_mode": {
    "name": "ipython",
    "version": 3
   },
   "file_extension": ".py",
   "mimetype": "text/x-python",
   "name": "python",
   "nbconvert_exporter": "python",
   "pygments_lexer": "ipython3",
   "version": "3.7.9"
  },
  "orig_nbformat": 4,
  "vscode": {
   "interpreter": {
    "hash": "980a64f2958df2404fa0d7c6e84c5eadfe57a704b6a6bc9d1085afbbc343affd"
   }
  }
 },
 "nbformat": 4,
 "nbformat_minor": 2
}
